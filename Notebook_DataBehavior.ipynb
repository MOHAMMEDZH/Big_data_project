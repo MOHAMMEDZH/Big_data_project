{
 "cells": [
  {
   "cell_type": "code",
   "execution_count": 1,
   "metadata": {},
   "outputs": [],
   "source": [
    "from pyspark.sql import *\n",
    "import pandas as pd"
   ]
  },
  {
   "cell_type": "code",
   "execution_count": 2,
   "metadata": {},
   "outputs": [
    {
     "name": "stderr",
     "output_type": "stream",
     "text": [
      "Setting default log level to \"WARN\".\n",
      "To adjust logging level use sc.setLogLevel(newLevel). For SparkR, use setLogLevel(newLevel).\n"
     ]
    },
    {
     "name": "stdout",
     "output_type": "stream",
     "text": [
      "23/02/02 17:42:14 WARN NativeCodeLoader: Unable to load native-hadoop library for your platform... using builtin-java classes where applicable\n"
     ]
    }
   ],
   "source": [
    "spark = SparkSession\\\n",
    "            .builder\\\n",
    "            .appName(\"Store\")\\\n",
    "            .getOrCreate()"
   ]
  },
  {
   "cell_type": "code",
   "execution_count": 3,
   "metadata": {},
   "outputs": [
    {
     "name": "stderr",
     "output_type": "stream",
     "text": [
      "                                                                                \r"
     ]
    },
    {
     "name": "stdout",
     "output_type": "stream",
     "text": [
      "+-------------------+----------+----------+-------------------+--------------------+------+------+---------+--------------------+\n",
      "|         event_time|event_type|product_id|        category_id|       category_code| brand| price|  user_id|        user_session|\n",
      "+-------------------+----------+----------+-------------------+--------------------+------+------+---------+--------------------+\n",
      "|2019-11-01 00:00:00|      view|   1003461|2053013555631882655|electronics.smart...|xiaomi|489.07|520088904|4d3b30da-a5e4-49d...|\n",
      "|2019-11-01 00:00:00|      view|   5000088|2053013566100866035|appliances.sewing...|janome|293.65|530496790|8e5f4f83-366c-4f7...|\n",
      "|2019-11-01 00:00:01|      view|  17302664|2053013553853497655|                null| creed| 28.31|561587266|755422e7-9040-477...|\n",
      "|2019-11-01 00:00:01|      view|   3601530|2053013563810775923|appliances.kitche...|    lg|712.87|518085591|3bfb58cd-7892-48c...|\n",
      "|2019-11-01 00:00:01|      view|   1004775|2053013555631882655|electronics.smart...|xiaomi|183.27|558856683|313628f1-68b8-460...|\n",
      "+-------------------+----------+----------+-------------------+--------------------+------+------+---------+--------------------+\n",
      "only showing top 5 rows\n",
      "\n"
     ]
    }
   ],
   "source": [
    "df = spark.read.csv(\"./big_data_dataset/*.csv\", \n",
    "                            header=\"true\",\n",
    "                            inferSchema=\"true\")\n",
    "df.createOrReplaceTempView(\"user_behave\")\n",
    "df.schema\n",
    "df.show(5)"
   ]
  },
  {
   "cell_type": "code",
   "execution_count": 5,
   "metadata": {},
   "outputs": [
    {
     "data": {
      "text/plain": [
       "[('event_time', 'timestamp'),\n",
       " ('event_type', 'string'),\n",
       " ('product_id', 'int'),\n",
       " ('category_id', 'bigint'),\n",
       " ('category_code', 'string'),\n",
       " ('brand', 'string'),\n",
       " ('price', 'double'),\n",
       " ('user_id', 'int'),\n",
       " ('user_session', 'string')]"
      ]
     },
     "execution_count": 5,
     "metadata": {},
     "output_type": "execute_result"
    }
   ],
   "source": [
    "df.dtypes"
   ]
  },
  {
   "cell_type": "code",
   "execution_count": 6,
   "metadata": {},
   "outputs": [
    {
     "name": "stderr",
     "output_type": "stream",
     "text": [
      "                                                                                \r"
     ]
    },
    {
     "data": {
      "text/html": [
       "<div>\n",
       "<style scoped>\n",
       "    .dataframe tbody tr th:only-of-type {\n",
       "        vertical-align: middle;\n",
       "    }\n",
       "\n",
       "    .dataframe tbody tr th {\n",
       "        vertical-align: top;\n",
       "    }\n",
       "\n",
       "    .dataframe thead th {\n",
       "        text-align: right;\n",
       "    }\n",
       "</style>\n",
       "<table border=\"1\" class=\"dataframe\">\n",
       "  <thead>\n",
       "    <tr style=\"text-align: right;\">\n",
       "      <th></th>\n",
       "      <th>brand</th>\n",
       "      <th>price</th>\n",
       "      <th>product_id</th>\n",
       "    </tr>\n",
       "  </thead>\n",
       "  <tbody>\n",
       "    <tr>\n",
       "      <th>0</th>\n",
       "      <td>None</td>\n",
       "      <td>20.54</td>\n",
       "      <td>34600011</td>\n",
       "    </tr>\n",
       "    <tr>\n",
       "      <th>1</th>\n",
       "      <td>lanvin</td>\n",
       "      <td>56.14</td>\n",
       "      <td>17300705</td>\n",
       "    </tr>\n",
       "    <tr>\n",
       "      <th>2</th>\n",
       "      <td>yokohama</td>\n",
       "      <td>97.81</td>\n",
       "      <td>12705975</td>\n",
       "    </tr>\n",
       "    <tr>\n",
       "      <th>3</th>\n",
       "      <td>None</td>\n",
       "      <td>99.10</td>\n",
       "      <td>28101002</td>\n",
       "    </tr>\n",
       "    <tr>\n",
       "      <th>4</th>\n",
       "      <td>asus</td>\n",
       "      <td>903.73</td>\n",
       "      <td>1307540</td>\n",
       "    </tr>\n",
       "    <tr>\n",
       "      <th>...</th>\n",
       "      <td>...</td>\n",
       "      <td>...</td>\n",
       "      <td>...</td>\n",
       "    </tr>\n",
       "    <tr>\n",
       "      <th>596916</th>\n",
       "      <td>wera</td>\n",
       "      <td>177.36</td>\n",
       "      <td>22700915</td>\n",
       "    </tr>\n",
       "    <tr>\n",
       "      <th>596917</th>\n",
       "      <td>korting</td>\n",
       "      <td>264.56</td>\n",
       "      <td>4502180</td>\n",
       "    </tr>\n",
       "    <tr>\n",
       "      <th>596918</th>\n",
       "      <td>None</td>\n",
       "      <td>10.13</td>\n",
       "      <td>26000955</td>\n",
       "    </tr>\n",
       "    <tr>\n",
       "      <th>596919</th>\n",
       "      <td>origins</td>\n",
       "      <td>19.08</td>\n",
       "      <td>38700074</td>\n",
       "    </tr>\n",
       "    <tr>\n",
       "      <th>596920</th>\n",
       "      <td>asus</td>\n",
       "      <td>151.99</td>\n",
       "      <td>7600463</td>\n",
       "    </tr>\n",
       "  </tbody>\n",
       "</table>\n",
       "<p>596921 rows × 3 columns</p>\n",
       "</div>"
      ],
      "text/plain": [
       "           brand   price  product_id\n",
       "0           None   20.54    34600011\n",
       "1         lanvin   56.14    17300705\n",
       "2       yokohama   97.81    12705975\n",
       "3           None   99.10    28101002\n",
       "4           asus  903.73     1307540\n",
       "...          ...     ...         ...\n",
       "596916      wera  177.36    22700915\n",
       "596917   korting  264.56     4502180\n",
       "596918      None   10.13    26000955\n",
       "596919   origins   19.08    38700074\n",
       "596920      asus  151.99     7600463\n",
       "\n",
       "[596921 rows x 3 columns]"
      ]
     },
     "execution_count": 6,
     "metadata": {},
     "output_type": "execute_result"
    }
   ],
   "source": [
    "sql = \"\"\"\n",
    "SELECT brand, DOUBLE(`price`), INT(product_id)\n",
    "FROM user_behave\n",
    "GROUP BY Brand, Price, Product_ID\n",
    "\"\"\"\n",
    "query = spark.sql(sql)\n",
    "query.toPandas()"
   ]
  },
  {
   "cell_type": "code",
   "execution_count": 7,
   "metadata": {},
   "outputs": [
    {
     "name": "stderr",
     "output_type": "stream",
     "text": [
      "                                                                                \r"
     ]
    },
    {
     "data": {
      "text/plain": [
       "brand         125305\n",
       "price              0\n",
       "product_id         0\n",
       "dtype: int64"
      ]
     },
     "execution_count": 7,
     "metadata": {},
     "output_type": "execute_result"
    }
   ],
   "source": [
    "query.toPandas().isna().sum()"
   ]
  },
  {
   "cell_type": "markdown",
   "metadata": {},
   "source": [
    "### Getting the brands, products ID and the prices data which do not have missing data"
   ]
  },
  {
   "cell_type": "code",
   "execution_count": 8,
   "metadata": {},
   "outputs": [
    {
     "name": "stderr",
     "output_type": "stream",
     "text": [
      "                                                                                \r"
     ]
    },
    {
     "data": {
      "text/html": [
       "<div>\n",
       "<style scoped>\n",
       "    .dataframe tbody tr th:only-of-type {\n",
       "        vertical-align: middle;\n",
       "    }\n",
       "\n",
       "    .dataframe tbody tr th {\n",
       "        vertical-align: top;\n",
       "    }\n",
       "\n",
       "    .dataframe thead th {\n",
       "        text-align: right;\n",
       "    }\n",
       "</style>\n",
       "<table border=\"1\" class=\"dataframe\">\n",
       "  <thead>\n",
       "    <tr style=\"text-align: right;\">\n",
       "      <th></th>\n",
       "      <th>brand</th>\n",
       "      <th>price</th>\n",
       "      <th>product_id</th>\n",
       "    </tr>\n",
       "  </thead>\n",
       "  <tbody>\n",
       "    <tr>\n",
       "      <th>0</th>\n",
       "      <td>lanvin</td>\n",
       "      <td>56.14</td>\n",
       "      <td>17300705</td>\n",
       "    </tr>\n",
       "    <tr>\n",
       "      <th>1</th>\n",
       "      <td>yokohama</td>\n",
       "      <td>97.81</td>\n",
       "      <td>12705975</td>\n",
       "    </tr>\n",
       "    <tr>\n",
       "      <th>2</th>\n",
       "      <td>asus</td>\n",
       "      <td>903.73</td>\n",
       "      <td>1307540</td>\n",
       "    </tr>\n",
       "    <tr>\n",
       "      <th>3</th>\n",
       "      <td>nokia</td>\n",
       "      <td>406.67</td>\n",
       "      <td>1003441</td>\n",
       "    </tr>\n",
       "    <tr>\n",
       "      <th>4</th>\n",
       "      <td>samsung</td>\n",
       "      <td>1133.36</td>\n",
       "      <td>1005073</td>\n",
       "    </tr>\n",
       "    <tr>\n",
       "      <th>...</th>\n",
       "      <td>...</td>\n",
       "      <td>...</td>\n",
       "      <td>...</td>\n",
       "    </tr>\n",
       "    <tr>\n",
       "      <th>471611</th>\n",
       "      <td>lirene</td>\n",
       "      <td>2.55</td>\n",
       "      <td>17601772</td>\n",
       "    </tr>\n",
       "    <tr>\n",
       "      <th>471612</th>\n",
       "      <td>wera</td>\n",
       "      <td>177.36</td>\n",
       "      <td>22700915</td>\n",
       "    </tr>\n",
       "    <tr>\n",
       "      <th>471613</th>\n",
       "      <td>korting</td>\n",
       "      <td>264.56</td>\n",
       "      <td>4502180</td>\n",
       "    </tr>\n",
       "    <tr>\n",
       "      <th>471614</th>\n",
       "      <td>origins</td>\n",
       "      <td>19.08</td>\n",
       "      <td>38700074</td>\n",
       "    </tr>\n",
       "    <tr>\n",
       "      <th>471615</th>\n",
       "      <td>asus</td>\n",
       "      <td>151.99</td>\n",
       "      <td>7600463</td>\n",
       "    </tr>\n",
       "  </tbody>\n",
       "</table>\n",
       "<p>471616 rows × 3 columns</p>\n",
       "</div>"
      ],
      "text/plain": [
       "           brand    price  product_id\n",
       "0         lanvin    56.14    17300705\n",
       "1       yokohama    97.81    12705975\n",
       "2           asus   903.73     1307540\n",
       "3          nokia   406.67     1003441\n",
       "4        samsung  1133.36     1005073\n",
       "...          ...      ...         ...\n",
       "471611    lirene     2.55    17601772\n",
       "471612      wera   177.36    22700915\n",
       "471613   korting   264.56     4502180\n",
       "471614   origins    19.08    38700074\n",
       "471615      asus   151.99     7600463\n",
       "\n",
       "[471616 rows x 3 columns]"
      ]
     },
     "execution_count": 8,
     "metadata": {},
     "output_type": "execute_result"
    }
   ],
   "source": [
    "sql = \"\"\"\n",
    "SELECT brand, DOUBLE(`price`), INT(product_id)\n",
    "FROM user_behave\n",
    "WHERE brand IS NOT NULL\n",
    "    AND price > 0\n",
    "    AND product_id IS NOT NULL\n",
    "GROUP BY Brand, Price, Product_ID\n",
    "\"\"\"\n",
    "to_predict = spark.sql(sql).toPandas()\n",
    "to_predict"
   ]
  },
  {
   "cell_type": "markdown",
   "metadata": {},
   "source": [
    "### The data where the price is missing"
   ]
  },
  {
   "cell_type": "code",
   "execution_count": 9,
   "metadata": {},
   "outputs": [
    {
     "name": "stderr",
     "output_type": "stream",
     "text": [
      "[Stage 11:=====================================================>(108 + 2) / 110]\r"
     ]
    },
    {
     "data": {
      "text/html": [
       "<div>\n",
       "<style scoped>\n",
       "    .dataframe tbody tr th:only-of-type {\n",
       "        vertical-align: middle;\n",
       "    }\n",
       "\n",
       "    .dataframe tbody tr th {\n",
       "        vertical-align: top;\n",
       "    }\n",
       "\n",
       "    .dataframe thead th {\n",
       "        text-align: right;\n",
       "    }\n",
       "</style>\n",
       "<table border=\"1\" class=\"dataframe\">\n",
       "  <thead>\n",
       "    <tr style=\"text-align: right;\">\n",
       "      <th></th>\n",
       "      <th>brand</th>\n",
       "      <th>price</th>\n",
       "      <th>product_id</th>\n",
       "    </tr>\n",
       "  </thead>\n",
       "  <tbody>\n",
       "  </tbody>\n",
       "</table>\n",
       "</div>"
      ],
      "text/plain": [
       "Empty DataFrame\n",
       "Columns: [brand, price, product_id]\n",
       "Index: []"
      ]
     },
     "execution_count": 9,
     "metadata": {},
     "output_type": "execute_result"
    }
   ],
   "source": [
    "sql = \"\"\"\n",
    "SELECT brand, DOUBLE(`price`), INT(product_id)\n",
    "FROM user_behave\n",
    "WHERE brand IS NOT NULL\n",
    "    AND price IS NULL\n",
    "    AND product_id IS NOT NULL\n",
    "GROUP BY Brand, Price, Product_ID\n",
    "\"\"\"\n",
    "predict = spark.sql(sql).toPandas()\n",
    "predict"
   ]
  },
  {
   "cell_type": "markdown",
   "metadata": {},
   "source": [
    "### Getting the data when the brand is missing"
   ]
  },
  {
   "cell_type": "code",
   "execution_count": 10,
   "metadata": {},
   "outputs": [
    {
     "name": "stderr",
     "output_type": "stream",
     "text": [
      "                                                                                \r"
     ]
    },
    {
     "data": {
      "text/html": [
       "<div>\n",
       "<style scoped>\n",
       "    .dataframe tbody tr th:only-of-type {\n",
       "        vertical-align: middle;\n",
       "    }\n",
       "\n",
       "    .dataframe tbody tr th {\n",
       "        vertical-align: top;\n",
       "    }\n",
       "\n",
       "    .dataframe thead th {\n",
       "        text-align: right;\n",
       "    }\n",
       "</style>\n",
       "<table border=\"1\" class=\"dataframe\">\n",
       "  <thead>\n",
       "    <tr style=\"text-align: right;\">\n",
       "      <th></th>\n",
       "      <th>brand</th>\n",
       "      <th>price</th>\n",
       "      <th>product_id</th>\n",
       "    </tr>\n",
       "  </thead>\n",
       "  <tbody>\n",
       "    <tr>\n",
       "      <th>0</th>\n",
       "      <td>None</td>\n",
       "      <td>20.54</td>\n",
       "      <td>34600011</td>\n",
       "    </tr>\n",
       "    <tr>\n",
       "      <th>1</th>\n",
       "      <td>None</td>\n",
       "      <td>99.10</td>\n",
       "      <td>28101002</td>\n",
       "    </tr>\n",
       "    <tr>\n",
       "      <th>2</th>\n",
       "      <td>None</td>\n",
       "      <td>58.69</td>\n",
       "      <td>28000018</td>\n",
       "    </tr>\n",
       "    <tr>\n",
       "      <th>3</th>\n",
       "      <td>None</td>\n",
       "      <td>835.29</td>\n",
       "      <td>15100230</td>\n",
       "    </tr>\n",
       "    <tr>\n",
       "      <th>4</th>\n",
       "      <td>None</td>\n",
       "      <td>21.96</td>\n",
       "      <td>32401181</td>\n",
       "    </tr>\n",
       "    <tr>\n",
       "      <th>...</th>\n",
       "      <td>...</td>\n",
       "      <td>...</td>\n",
       "      <td>...</td>\n",
       "    </tr>\n",
       "    <tr>\n",
       "      <th>125300</th>\n",
       "      <td>None</td>\n",
       "      <td>4.14</td>\n",
       "      <td>24700094</td>\n",
       "    </tr>\n",
       "    <tr>\n",
       "      <th>125301</th>\n",
       "      <td>None</td>\n",
       "      <td>49.80</td>\n",
       "      <td>28101764</td>\n",
       "    </tr>\n",
       "    <tr>\n",
       "      <th>125302</th>\n",
       "      <td>None</td>\n",
       "      <td>0.00</td>\n",
       "      <td>100027667</td>\n",
       "    </tr>\n",
       "    <tr>\n",
       "      <th>125303</th>\n",
       "      <td>None</td>\n",
       "      <td>50.71</td>\n",
       "      <td>28714948</td>\n",
       "    </tr>\n",
       "    <tr>\n",
       "      <th>125304</th>\n",
       "      <td>None</td>\n",
       "      <td>10.13</td>\n",
       "      <td>26000955</td>\n",
       "    </tr>\n",
       "  </tbody>\n",
       "</table>\n",
       "<p>125305 rows × 3 columns</p>\n",
       "</div>"
      ],
      "text/plain": [
       "       brand   price  product_id\n",
       "0       None   20.54    34600011\n",
       "1       None   99.10    28101002\n",
       "2       None   58.69    28000018\n",
       "3       None  835.29    15100230\n",
       "4       None   21.96    32401181\n",
       "...      ...     ...         ...\n",
       "125300  None    4.14    24700094\n",
       "125301  None   49.80    28101764\n",
       "125302  None    0.00   100027667\n",
       "125303  None   50.71    28714948\n",
       "125304  None   10.13    26000955\n",
       "\n",
       "[125305 rows x 3 columns]"
      ]
     },
     "execution_count": 10,
     "metadata": {},
     "output_type": "execute_result"
    }
   ],
   "source": [
    "sql = \"\"\"\n",
    "SELECT brand, DOUBLE(`price`), INT(product_id)\n",
    "FROM user_behave\n",
    "WHERE brand IS NULL\n",
    "    AND price IS NOT NULL\n",
    "    AND product_id IS NOT NULL\n",
    "GROUP BY Brand, Price, Product_ID\n",
    "\"\"\"\n",
    "p = spark.sql(sql).toPandas()\n",
    "p"
   ]
  },
  {
   "cell_type": "code",
   "execution_count": 4,
   "metadata": {},
   "outputs": [
    {
     "name": "stderr",
     "output_type": "stream",
     "text": [
      "                                                                                \r"
     ]
    },
    {
     "data": {
      "text/html": [
       "<div>\n",
       "<style scoped>\n",
       "    .dataframe tbody tr th:only-of-type {\n",
       "        vertical-align: middle;\n",
       "    }\n",
       "\n",
       "    .dataframe tbody tr th {\n",
       "        vertical-align: top;\n",
       "    }\n",
       "\n",
       "    .dataframe thead th {\n",
       "        text-align: right;\n",
       "    }\n",
       "</style>\n",
       "<table border=\"1\" class=\"dataframe\">\n",
       "  <thead>\n",
       "    <tr style=\"text-align: right;\">\n",
       "      <th></th>\n",
       "      <th>brand</th>\n",
       "      <th>price</th>\n",
       "      <th>product_id</th>\n",
       "      <th>category_code</th>\n",
       "      <th>event_type</th>\n",
       "    </tr>\n",
       "  </thead>\n",
       "  <tbody>\n",
       "    <tr>\n",
       "      <th>0</th>\n",
       "      <td>honor</td>\n",
       "      <td>47.62</td>\n",
       "      <td>5100851</td>\n",
       "      <td>None</td>\n",
       "      <td>view</td>\n",
       "    </tr>\n",
       "    <tr>\n",
       "      <th>1</th>\n",
       "      <td>luminarc</td>\n",
       "      <td>57.66</td>\n",
       "      <td>31501171</td>\n",
       "      <td>None</td>\n",
       "      <td>view</td>\n",
       "    </tr>\n",
       "    <tr>\n",
       "      <th>2</th>\n",
       "      <td>samsung</td>\n",
       "      <td>463.31</td>\n",
       "      <td>4600667</td>\n",
       "      <td>appliances.kitchen.dishwasher</td>\n",
       "      <td>view</td>\n",
       "    </tr>\n",
       "    <tr>\n",
       "      <th>3</th>\n",
       "      <td>samsung</td>\n",
       "      <td>720.22</td>\n",
       "      <td>1003712</td>\n",
       "      <td>electronics.smartphone</td>\n",
       "      <td>view</td>\n",
       "    </tr>\n",
       "    <tr>\n",
       "      <th>4</th>\n",
       "      <td>gezatone</td>\n",
       "      <td>39.90</td>\n",
       "      <td>29100027</td>\n",
       "      <td>appliances.personal.massager</td>\n",
       "      <td>view</td>\n",
       "    </tr>\n",
       "    <tr>\n",
       "      <th>...</th>\n",
       "      <td>...</td>\n",
       "      <td>...</td>\n",
       "      <td>...</td>\n",
       "      <td>...</td>\n",
       "      <td>...</td>\n",
       "    </tr>\n",
       "    <tr>\n",
       "      <th>884736</th>\n",
       "      <td>crucial</td>\n",
       "      <td>203.84</td>\n",
       "      <td>6600562</td>\n",
       "      <td>computers.components.memory</td>\n",
       "      <td>view</td>\n",
       "    </tr>\n",
       "    <tr>\n",
       "      <th>884737</th>\n",
       "      <td>yokohama</td>\n",
       "      <td>139.90</td>\n",
       "      <td>12719203</td>\n",
       "      <td>None</td>\n",
       "      <td>view</td>\n",
       "    </tr>\n",
       "    <tr>\n",
       "      <th>884738</th>\n",
       "      <td>kisswill</td>\n",
       "      <td>2.48</td>\n",
       "      <td>18001220</td>\n",
       "      <td>None</td>\n",
       "      <td>view</td>\n",
       "    </tr>\n",
       "    <tr>\n",
       "      <th>884739</th>\n",
       "      <td>garmin</td>\n",
       "      <td>488.39</td>\n",
       "      <td>5900150</td>\n",
       "      <td>None</td>\n",
       "      <td>view</td>\n",
       "    </tr>\n",
       "    <tr>\n",
       "      <th>884740</th>\n",
       "      <td>lg</td>\n",
       "      <td>1234.99</td>\n",
       "      <td>1801612</td>\n",
       "      <td>electronics.video.tv</td>\n",
       "      <td>purchase</td>\n",
       "    </tr>\n",
       "  </tbody>\n",
       "</table>\n",
       "<p>884741 rows × 5 columns</p>\n",
       "</div>"
      ],
      "text/plain": [
       "           brand    price  product_id                  category_code  \\\n",
       "0          honor    47.62     5100851                           None   \n",
       "1       luminarc    57.66    31501171                           None   \n",
       "2        samsung   463.31     4600667  appliances.kitchen.dishwasher   \n",
       "3        samsung   720.22     1003712         electronics.smartphone   \n",
       "4       gezatone    39.90    29100027   appliances.personal.massager   \n",
       "...          ...      ...         ...                            ...   \n",
       "884736   crucial   203.84     6600562    computers.components.memory   \n",
       "884737  yokohama   139.90    12719203                           None   \n",
       "884738  kisswill     2.48    18001220                           None   \n",
       "884739    garmin   488.39     5900150                           None   \n",
       "884740        lg  1234.99     1801612           electronics.video.tv   \n",
       "\n",
       "       event_type  \n",
       "0            view  \n",
       "1            view  \n",
       "2            view  \n",
       "3            view  \n",
       "4            view  \n",
       "...           ...  \n",
       "884736       view  \n",
       "884737       view  \n",
       "884738       view  \n",
       "884739       view  \n",
       "884740   purchase  \n",
       "\n",
       "[884741 rows x 5 columns]"
      ]
     },
     "execution_count": 4,
     "metadata": {},
     "output_type": "execute_result"
    }
   ],
   "source": [
    "sql = \"\"\"\n",
    "SELECT brand, DOUBLE(`price`), INT(product_id), category_code, event_type\n",
    "FROM user_behave\n",
    "GROUP BY Brand, Price, Product_ID, category_code, event_type\n",
    "\"\"\"\n",
    "q = spark.sql(sql)\n",
    "q.toPandas()"
   ]
  },
  {
   "cell_type": "markdown",
   "metadata": {},
   "source": [
    "### Data where the Event is missing"
   ]
  },
  {
   "cell_type": "code",
   "execution_count": 18,
   "metadata": {},
   "outputs": [
    {
     "name": "stderr",
     "output_type": "stream",
     "text": [
      "[Stage 25:=====================================================>(109 + 1) / 110]\r"
     ]
    },
    {
     "data": {
      "text/html": [
       "<div>\n",
       "<style scoped>\n",
       "    .dataframe tbody tr th:only-of-type {\n",
       "        vertical-align: middle;\n",
       "    }\n",
       "\n",
       "    .dataframe tbody tr th {\n",
       "        vertical-align: top;\n",
       "    }\n",
       "\n",
       "    .dataframe thead th {\n",
       "        text-align: right;\n",
       "    }\n",
       "</style>\n",
       "<table border=\"1\" class=\"dataframe\">\n",
       "  <thead>\n",
       "    <tr style=\"text-align: right;\">\n",
       "      <th></th>\n",
       "      <th>brand</th>\n",
       "      <th>price</th>\n",
       "      <th>product_id</th>\n",
       "      <th>category_code</th>\n",
       "      <th>event_type</th>\n",
       "    </tr>\n",
       "  </thead>\n",
       "  <tbody>\n",
       "  </tbody>\n",
       "</table>\n",
       "</div>"
      ],
      "text/plain": [
       "Empty DataFrame\n",
       "Columns: [brand, price, product_id, category_code, event_type]\n",
       "Index: []"
      ]
     },
     "execution_count": 18,
     "metadata": {},
     "output_type": "execute_result"
    }
   ],
   "source": [
    "sql = \"\"\"\n",
    "SELECT brand, DOUBLE(`price`), INT(product_id), category_code, event_type\n",
    "FROM user_behave\n",
    "WHERE brand IS NOT NULL\n",
    "    AND category_code IS NOT NULL\n",
    "    AND event_type IS NULL\n",
    "GROUP BY Brand, Price, Product_ID, category_code, event_type\n",
    "\"\"\"\n",
    "q1 = spark.sql(sql)\n",
    "q1.toPandas()"
   ]
  },
  {
   "cell_type": "markdown",
   "metadata": {},
   "source": [
    "### Getting the data when the category is missed"
   ]
  },
  {
   "cell_type": "code",
   "execution_count": 19,
   "metadata": {},
   "outputs": [
    {
     "name": "stderr",
     "output_type": "stream",
     "text": [
      "                                                                                \r"
     ]
    },
    {
     "data": {
      "text/html": [
       "<div>\n",
       "<style scoped>\n",
       "    .dataframe tbody tr th:only-of-type {\n",
       "        vertical-align: middle;\n",
       "    }\n",
       "\n",
       "    .dataframe tbody tr th {\n",
       "        vertical-align: top;\n",
       "    }\n",
       "\n",
       "    .dataframe thead th {\n",
       "        text-align: right;\n",
       "    }\n",
       "</style>\n",
       "<table border=\"1\" class=\"dataframe\">\n",
       "  <thead>\n",
       "    <tr style=\"text-align: right;\">\n",
       "      <th></th>\n",
       "      <th>brand</th>\n",
       "      <th>price</th>\n",
       "      <th>product_id</th>\n",
       "      <th>category_code</th>\n",
       "      <th>event_type</th>\n",
       "    </tr>\n",
       "  </thead>\n",
       "  <tbody>\n",
       "    <tr>\n",
       "      <th>0</th>\n",
       "      <td>honor</td>\n",
       "      <td>47.62</td>\n",
       "      <td>5100851</td>\n",
       "      <td>None</td>\n",
       "      <td>view</td>\n",
       "    </tr>\n",
       "    <tr>\n",
       "      <th>1</th>\n",
       "      <td>luminarc</td>\n",
       "      <td>57.66</td>\n",
       "      <td>31501171</td>\n",
       "      <td>None</td>\n",
       "      <td>view</td>\n",
       "    </tr>\n",
       "    <tr>\n",
       "      <th>2</th>\n",
       "      <td>artmusical</td>\n",
       "      <td>123.56</td>\n",
       "      <td>41200013</td>\n",
       "      <td>None</td>\n",
       "      <td>view</td>\n",
       "    </tr>\n",
       "    <tr>\n",
       "      <th>3</th>\n",
       "      <td>chicco</td>\n",
       "      <td>149.27</td>\n",
       "      <td>8000002</td>\n",
       "      <td>None</td>\n",
       "      <td>view</td>\n",
       "    </tr>\n",
       "    <tr>\n",
       "      <th>4</th>\n",
       "      <td>cordiant</td>\n",
       "      <td>39.38</td>\n",
       "      <td>12703014</td>\n",
       "      <td>None</td>\n",
       "      <td>view</td>\n",
       "    </tr>\n",
       "    <tr>\n",
       "      <th>...</th>\n",
       "      <td>...</td>\n",
       "      <td>...</td>\n",
       "      <td>...</td>\n",
       "      <td>...</td>\n",
       "      <td>...</td>\n",
       "    </tr>\n",
       "    <tr>\n",
       "      <th>296407</th>\n",
       "      <td>montblanc</td>\n",
       "      <td>59.48</td>\n",
       "      <td>100019537</td>\n",
       "      <td>None</td>\n",
       "      <td>view</td>\n",
       "    </tr>\n",
       "    <tr>\n",
       "      <th>296408</th>\n",
       "      <td>dvizenie</td>\n",
       "      <td>28.83</td>\n",
       "      <td>100012446</td>\n",
       "      <td>None</td>\n",
       "      <td>cart</td>\n",
       "    </tr>\n",
       "    <tr>\n",
       "      <th>296409</th>\n",
       "      <td>yokohama</td>\n",
       "      <td>139.90</td>\n",
       "      <td>12719203</td>\n",
       "      <td>None</td>\n",
       "      <td>view</td>\n",
       "    </tr>\n",
       "    <tr>\n",
       "      <th>296410</th>\n",
       "      <td>kisswill</td>\n",
       "      <td>2.48</td>\n",
       "      <td>18001220</td>\n",
       "      <td>None</td>\n",
       "      <td>view</td>\n",
       "    </tr>\n",
       "    <tr>\n",
       "      <th>296411</th>\n",
       "      <td>garmin</td>\n",
       "      <td>488.39</td>\n",
       "      <td>5900150</td>\n",
       "      <td>None</td>\n",
       "      <td>view</td>\n",
       "    </tr>\n",
       "  </tbody>\n",
       "</table>\n",
       "<p>296412 rows × 5 columns</p>\n",
       "</div>"
      ],
      "text/plain": [
       "             brand   price  product_id category_code event_type\n",
       "0            honor   47.62     5100851          None       view\n",
       "1         luminarc   57.66    31501171          None       view\n",
       "2       artmusical  123.56    41200013          None       view\n",
       "3           chicco  149.27     8000002          None       view\n",
       "4         cordiant   39.38    12703014          None       view\n",
       "...            ...     ...         ...           ...        ...\n",
       "296407   montblanc   59.48   100019537          None       view\n",
       "296408    dvizenie   28.83   100012446          None       cart\n",
       "296409    yokohama  139.90    12719203          None       view\n",
       "296410    kisswill    2.48    18001220          None       view\n",
       "296411      garmin  488.39     5900150          None       view\n",
       "\n",
       "[296412 rows x 5 columns]"
      ]
     },
     "execution_count": 19,
     "metadata": {},
     "output_type": "execute_result"
    }
   ],
   "source": [
    "sql = \"\"\"\n",
    "SELECT brand, DOUBLE(`price`), INT(product_id), category_code, event_type\n",
    "FROM user_behave\n",
    "WHERE brand IS NOT NULL\n",
    "    AND category_code IS NULL\n",
    "    AND event_type IS NOT NULL\n",
    "GROUP BY Brand, Price, Product_ID, category_code, event_type\n",
    "\"\"\"\n",
    "q2 = spark.sql(sql)\n",
    "q2.toPandas()"
   ]
  },
  {
   "cell_type": "markdown",
   "metadata": {},
   "source": [
    "# The data when the data is not missing"
   ]
  },
  {
   "cell_type": "code",
   "execution_count": 20,
   "metadata": {},
   "outputs": [
    {
     "name": "stderr",
     "output_type": "stream",
     "text": [
      "                                                                                \r"
     ]
    },
    {
     "data": {
      "text/html": [
       "<div>\n",
       "<style scoped>\n",
       "    .dataframe tbody tr th:only-of-type {\n",
       "        vertical-align: middle;\n",
       "    }\n",
       "\n",
       "    .dataframe tbody tr th {\n",
       "        vertical-align: top;\n",
       "    }\n",
       "\n",
       "    .dataframe thead th {\n",
       "        text-align: right;\n",
       "    }\n",
       "</style>\n",
       "<table border=\"1\" class=\"dataframe\">\n",
       "  <thead>\n",
       "    <tr style=\"text-align: right;\">\n",
       "      <th></th>\n",
       "      <th>brand</th>\n",
       "      <th>price</th>\n",
       "      <th>product_id</th>\n",
       "      <th>category_code</th>\n",
       "      <th>event_type</th>\n",
       "    </tr>\n",
       "  </thead>\n",
       "  <tbody>\n",
       "    <tr>\n",
       "      <th>0</th>\n",
       "      <td>samsung</td>\n",
       "      <td>463.31</td>\n",
       "      <td>4600667</td>\n",
       "      <td>appliances.kitchen.dishwasher</td>\n",
       "      <td>view</td>\n",
       "    </tr>\n",
       "    <tr>\n",
       "      <th>1</th>\n",
       "      <td>samsung</td>\n",
       "      <td>720.22</td>\n",
       "      <td>1003712</td>\n",
       "      <td>electronics.smartphone</td>\n",
       "      <td>view</td>\n",
       "    </tr>\n",
       "    <tr>\n",
       "      <th>2</th>\n",
       "      <td>gezatone</td>\n",
       "      <td>39.90</td>\n",
       "      <td>29100027</td>\n",
       "      <td>appliances.personal.massager</td>\n",
       "      <td>view</td>\n",
       "    </tr>\n",
       "    <tr>\n",
       "      <th>3</th>\n",
       "      <td>respect</td>\n",
       "      <td>71.82</td>\n",
       "      <td>28716984</td>\n",
       "      <td>apparel.shoes.keds</td>\n",
       "      <td>view</td>\n",
       "    </tr>\n",
       "    <tr>\n",
       "      <th>4</th>\n",
       "      <td>caprice</td>\n",
       "      <td>42.47</td>\n",
       "      <td>28713988</td>\n",
       "      <td>apparel.shoes.ballet_shoes</td>\n",
       "      <td>view</td>\n",
       "    </tr>\n",
       "    <tr>\n",
       "      <th>...</th>\n",
       "      <td>...</td>\n",
       "      <td>...</td>\n",
       "      <td>...</td>\n",
       "      <td>...</td>\n",
       "      <td>...</td>\n",
       "    </tr>\n",
       "    <tr>\n",
       "      <th>414972</th>\n",
       "      <td>jetair</td>\n",
       "      <td>169.52</td>\n",
       "      <td>2401723</td>\n",
       "      <td>appliances.kitchen.hood</td>\n",
       "      <td>view</td>\n",
       "    </tr>\n",
       "    <tr>\n",
       "      <th>414973</th>\n",
       "      <td>nexpero</td>\n",
       "      <td>79.02</td>\n",
       "      <td>28721177</td>\n",
       "      <td>apparel.shoes</td>\n",
       "      <td>purchase</td>\n",
       "    </tr>\n",
       "    <tr>\n",
       "      <th>414974</th>\n",
       "      <td>wintek</td>\n",
       "      <td>28.18</td>\n",
       "      <td>9700406</td>\n",
       "      <td>computers.components.power_supply</td>\n",
       "      <td>view</td>\n",
       "    </tr>\n",
       "    <tr>\n",
       "      <th>414975</th>\n",
       "      <td>crucial</td>\n",
       "      <td>203.84</td>\n",
       "      <td>6600562</td>\n",
       "      <td>computers.components.memory</td>\n",
       "      <td>view</td>\n",
       "    </tr>\n",
       "    <tr>\n",
       "      <th>414976</th>\n",
       "      <td>lg</td>\n",
       "      <td>1234.99</td>\n",
       "      <td>1801612</td>\n",
       "      <td>electronics.video.tv</td>\n",
       "      <td>purchase</td>\n",
       "    </tr>\n",
       "  </tbody>\n",
       "</table>\n",
       "<p>414977 rows × 5 columns</p>\n",
       "</div>"
      ],
      "text/plain": [
       "           brand    price  product_id                      category_code  \\\n",
       "0        samsung   463.31     4600667      appliances.kitchen.dishwasher   \n",
       "1        samsung   720.22     1003712             electronics.smartphone   \n",
       "2       gezatone    39.90    29100027       appliances.personal.massager   \n",
       "3        respect    71.82    28716984                 apparel.shoes.keds   \n",
       "4        caprice    42.47    28713988         apparel.shoes.ballet_shoes   \n",
       "...          ...      ...         ...                                ...   \n",
       "414972    jetair   169.52     2401723            appliances.kitchen.hood   \n",
       "414973   nexpero    79.02    28721177                      apparel.shoes   \n",
       "414974    wintek    28.18     9700406  computers.components.power_supply   \n",
       "414975   crucial   203.84     6600562        computers.components.memory   \n",
       "414976        lg  1234.99     1801612               electronics.video.tv   \n",
       "\n",
       "       event_type  \n",
       "0            view  \n",
       "1            view  \n",
       "2            view  \n",
       "3            view  \n",
       "4            view  \n",
       "...           ...  \n",
       "414972       view  \n",
       "414973   purchase  \n",
       "414974       view  \n",
       "414975       view  \n",
       "414976   purchase  \n",
       "\n",
       "[414977 rows x 5 columns]"
      ]
     },
     "execution_count": 20,
     "metadata": {},
     "output_type": "execute_result"
    }
   ],
   "source": [
    "sql = \"\"\"\n",
    "SELECT brand, DOUBLE(`price`), INT(product_id), category_code, event_type\n",
    "FROM user_behave\n",
    "WHERE brand IS NOT NULL\n",
    "    AND category_code IS NOT NULL\n",
    "    AND event_type IS NOT NULL\n",
    "GROUP BY Brand, Price, Product_ID, category_code, event_type\n",
    "\"\"\"\n",
    "query1 = spark.sql(sql)\n",
    "query1.toPandas()"
   ]
  },
  {
   "cell_type": "code",
   "execution_count": 6,
   "metadata": {},
   "outputs": [],
   "source": [
    "import matplotlib.pyplot as plt\n",
    "import seaborn as sns"
   ]
  },
  {
   "cell_type": "markdown",
   "metadata": {},
   "source": [
    "### Visualizing the missing category"
   ]
  },
  {
   "cell_type": "code",
   "execution_count": 23,
   "metadata": {},
   "outputs": [
    {
     "name": "stderr",
     "output_type": "stream",
     "text": [
      "                                                                                \r"
     ]
    },
    {
     "data": {
      "text/plain": [
       "<AxesSubplot: >"
      ]
     },
     "execution_count": 23,
     "metadata": {},
     "output_type": "execute_result"
    },
    {
     "data": {
      "image/png": "[encoded data removed]",
      "text/plain": [
       "<Figure size 640x480 with 1 Axes>"
      ]
     },
     "metadata": {},
     "output_type": "display_data"
    }
   ],
   "source": [
    "sns.heatmap(q2.toPandas().isnull(),yticklabels=False,cbar=False,cmap='plasma')  "
   ]
  },
  {
   "cell_type": "code",
   "execution_count": 9,
   "metadata": {},
   "outputs": [
    {
     "name": "stderr",
     "output_type": "stream",
     "text": [
      "                                                                                \r"
     ]
    },
    {
     "ename": "TypeError",
     "evalue": "set_major_formatter() missing 1 required positional argument: 'formatter'",
     "output_type": "error",
     "traceback": [
      "\u001b[0;31m---------------------------------------------------------------------------\u001b[0m",
      "\u001b[0;31mTypeError\u001b[0m                                 Traceback (most recent call last)",
      "Cell \u001b[0;32mIn[9], line 7\u001b[0m\n\u001b[1;32m      5\u001b[0m ax1\u001b[39m.\u001b[39mset_ylabel(\u001b[39m'\u001b[39m\u001b[39mCategory\u001b[39m\u001b[39m'\u001b[39m)\n\u001b[1;32m      6\u001b[0m ax1\u001b[39m.\u001b[39mset_title(\u001b[39m'\u001b[39m\u001b[39mMost Expensive Item by Category\u001b[39m\u001b[39m'\u001b[39m)\n\u001b[0;32m----> 7\u001b[0m ax1\u001b[39m.\u001b[39;49mxaxis\u001b[39m.\u001b[39;49mset_major_formatter()\n",
      "\u001b[0;31mTypeError\u001b[0m: set_major_formatter() missing 1 required positional argument: 'formatter'"
     ]
    },
    {
     "data": {
      "image/png": "[encoded data removed]",
      "text/plain": [
       "<Figure size 640x480 with 1 Axes>"
      ]
     },
     "metadata": {},
     "output_type": "display_data"
    },
    {
     "data": {
      "image/png": "[encoded data removed]",
      "text/plain": [
       "<Figure size 1500x400 with 1 Axes>"
      ]
     },
     "metadata": {},
     "output_type": "display_data"
    }
   ],
   "source": [
    "plt.subplots()\n",
    "ax1=q.toPandas().head(10).plot(figsize = (15,4),\n",
    "                kind = 'barh')\n",
    "ax1.set_xlabel('price')\n",
    "ax1.set_ylabel('Category')\n",
    "ax1.set_title('Most Expensive Item by Category')\n",
    "ax1.xaxis.set_major_formatter()\n",
    "\n"
   ]
  },
  {
   "cell_type": "code",
   "execution_count": 7,
   "metadata": {},
   "outputs": [
    {
     "name": "stderr",
     "output_type": "stream",
     "text": [
      "/tmp/ipykernel_618/1199117670.py:1: FutureWarning: The default value of numeric_only in DataFrame.corr is deprecated. In a future version, it will default to False. Select only valid columns or specify the value of numeric_only to silence this warning.\n",
      "  corr = q.toPandas().corr()\n"
     ]
    },
    {
     "data": {
      "image/png": "[encoded data removed]",
      "text/plain": [
       "<Figure size 640x480 with 2 Axes>"
      ]
     },
     "metadata": {},
     "output_type": "display_data"
    }
   ],
   "source": [
    "corr = q.toPandas().corr()\n",
    "sns.heatmap(corr, annot=True, linewidths=0.5)\n",
    "plt.show()"
   ]
  }
 ],
 "metadata": {
  "kernelspec": {
   "display_name": "Python 3.9.8 64-bit",
   "language": "python",
   "name": "python3"
  },
  "language_info": {
   "codemirror_mode": {
    "name": "ipython",
    "version": 3
   },
   "file_extension": ".py",
   "mimetype": "text/x-python",
   "name": "python",
   "nbconvert_exporter": "python",
   "pygments_lexer": "ipython3",
   "version": "3.9.8"
  },
  "orig_nbformat": 4,
  "vscode": {
   "interpreter": {
    "hash": "949777d72b0d2535278d3dc13498b2535136f6dfe0678499012e853ee9abcab1"
   }
  }
 },
 "nbformat": 4,
 "nbformat_minor": 2
}
